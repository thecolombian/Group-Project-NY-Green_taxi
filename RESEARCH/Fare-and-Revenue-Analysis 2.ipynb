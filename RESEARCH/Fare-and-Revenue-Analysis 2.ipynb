{
 "cells": [
  {
   "cell_type": "code",
   "execution_count": 2,
   "id": "dc7e7822-82e6-49ca-b0f4-14ec651fd5cb",
   "metadata": {},
   "outputs": [
    {
     "name": "stdout",
     "output_type": "stream",
     "text": [
      "Collecting seaborn\n",
      "  Downloading seaborn-0.13.2-py3-none-any.whl.metadata (5.4 kB)\n",
      "Requirement already satisfied: numpy!=1.24.0,>=1.20 in /opt/anaconda3/envs/taxidev/lib/python3.9/site-packages (from seaborn) (1.26.4)\n",
      "Requirement already satisfied: pandas>=1.2 in /opt/anaconda3/envs/taxidev/lib/python3.9/site-packages (from seaborn) (1.5.3)\n",
      "Requirement already satisfied: matplotlib!=3.6.1,>=3.4 in /opt/anaconda3/envs/taxidev/lib/python3.9/site-packages (from seaborn) (3.9.1)\n",
      "Requirement already satisfied: contourpy>=1.0.1 in /opt/anaconda3/envs/taxidev/lib/python3.9/site-packages (from matplotlib!=3.6.1,>=3.4->seaborn) (1.2.1)\n",
      "Requirement already satisfied: cycler>=0.10 in /opt/anaconda3/envs/taxidev/lib/python3.9/site-packages (from matplotlib!=3.6.1,>=3.4->seaborn) (0.12.1)\n",
      "Requirement already satisfied: fonttools>=4.22.0 in /opt/anaconda3/envs/taxidev/lib/python3.9/site-packages (from matplotlib!=3.6.1,>=3.4->seaborn) (4.53.1)\n",
      "Requirement already satisfied: kiwisolver>=1.3.1 in /opt/anaconda3/envs/taxidev/lib/python3.9/site-packages (from matplotlib!=3.6.1,>=3.4->seaborn) (1.4.5)\n",
      "Requirement already satisfied: packaging>=20.0 in /opt/anaconda3/envs/taxidev/lib/python3.9/site-packages (from matplotlib!=3.6.1,>=3.4->seaborn) (24.1)\n",
      "Requirement already satisfied: pillow>=8 in /opt/anaconda3/envs/taxidev/lib/python3.9/site-packages (from matplotlib!=3.6.1,>=3.4->seaborn) (10.4.0)\n",
      "Requirement already satisfied: pyparsing>=2.3.1 in /opt/anaconda3/envs/taxidev/lib/python3.9/site-packages (from matplotlib!=3.6.1,>=3.4->seaborn) (3.1.2)\n",
      "Requirement already satisfied: python-dateutil>=2.7 in /opt/anaconda3/envs/taxidev/lib/python3.9/site-packages (from matplotlib!=3.6.1,>=3.4->seaborn) (2.9.0)\n",
      "Requirement already satisfied: importlib-resources>=3.2.0 in /opt/anaconda3/envs/taxidev/lib/python3.9/site-packages (from matplotlib!=3.6.1,>=3.4->seaborn) (6.4.0)\n",
      "Requirement already satisfied: pytz>=2020.1 in /opt/anaconda3/envs/taxidev/lib/python3.9/site-packages (from pandas>=1.2->seaborn) (2024.1)\n",
      "Requirement already satisfied: zipp>=3.1.0 in /opt/anaconda3/envs/taxidev/lib/python3.9/site-packages (from importlib-resources>=3.2.0->matplotlib!=3.6.1,>=3.4->seaborn) (3.19.2)\n",
      "Requirement already satisfied: six>=1.5 in /opt/anaconda3/envs/taxidev/lib/python3.9/site-packages (from python-dateutil>=2.7->matplotlib!=3.6.1,>=3.4->seaborn) (1.16.0)\n",
      "Downloading seaborn-0.13.2-py3-none-any.whl (294 kB)\n",
      "\u001b[2K   \u001b[90m━━━━━━━━━━━━━━━━━━━━━━━━━━━━━━━━━━━━━━━━\u001b[0m \u001b[32m294.9/294.9 kB\u001b[0m \u001b[31m9.5 MB/s\u001b[0m eta \u001b[36m0:00:00\u001b[0m\n",
      "\u001b[?25hInstalling collected packages: seaborn\n",
      "Successfully installed seaborn-0.13.2\n",
      "Note: you may need to restart the kernel to use updated packages.\n"
     ]
    }
   ],
   "source": [
    "# %pip install seaborn"
   ]
  },
  {
   "cell_type": "code",
   "execution_count": 10,
   "id": "cb9039fb-cea4-4b55-a957-a7771c3efbe1",
   "metadata": {},
   "outputs": [
    {
     "name": "stdout",
     "output_type": "stream",
     "text": [
      "{'infer_column_types': 'False', 'activity': 'download'}\n",
      "{'infer_column_types': 'False', 'activity': 'download', 'activityApp': 'FileDataset'}\n",
      "[Info] read from /var/folders/m1/v2p5dlc135x8ctp72qfss6200000gn/T/tmpwp4ywrbb/https%3A/%2Fazureopendatastorage.azurefd.net/nyctlc/green/puYear=2018/puMonth=5/part-00087-tid-4753095944193949832-fee7e113-666d-4114-9fcb-bcd3046479f3-2657-1.c000.snappy.parquet\n",
      "[Info] read from /var/folders/m1/v2p5dlc135x8ctp72qfss6200000gn/T/tmpwp4ywrbb/https%3A/%2Fazureopendatastorage.azurefd.net/nyctlc/green/puYear=2018/puMonth=6/part-00171-tid-4753095944193949832-fee7e113-666d-4114-9fcb-bcd3046479f3-2741-1.c000.snappy.parquet\n",
      "Index(['vendorID', 'lpepPickupDatetime', 'lpepDropoffDatetime',\n",
      "       'passengerCount', 'tripDistance', 'puLocationId', 'doLocationId',\n",
      "       'pickupLongitude', 'pickupLatitude', 'dropoffLongitude',\n",
      "       'dropoffLatitude', 'rateCodeID', 'storeAndFwdFlag', 'paymentType',\n",
      "       'fareAmount', 'extra', 'mtaTax', 'improvementSurcharge', 'tipAmount',\n",
      "       'tollsAmount', 'ehailFee', 'totalAmount', 'tripType'],\n",
      "      dtype='object')\n"
     ]
    },
    {
     "data": {
      "image/png": "[encoded data removed]",
      "text/plain": [
       "<Figure size 1400x600 with 1 Axes>"
      ]
     },
     "metadata": {},
     "output_type": "display_data"
    }
   ],
   "source": [
    "# Import necessary libraries\n",
    "from azureml.opendatasets import NycTlcGreen\n",
    "from datetime import datetime\n",
    "from dateutil import parser\n",
    "import pandas as pd\n",
    "import matplotlib.pyplot as plt\n",
    "import seaborn as sns\n",
    "\n",
    "# Set the date range\n",
    "end_date = parser.parse('2018-06-06')\n",
    "start_date = parser.parse('2018-05-01')\n",
    "\n",
    "# Fetch the dataset\n",
    "nyc_tlc = NycTlcGreen(start_date=start_date, end_date=end_date)\n",
    "nyc_tlc_df = nyc_tlc.to_pandas_dataframe()\n",
    "\n",
    "# Display the columns to verify the names\n",
    "print(nyc_tlc_df.columns)\n",
    "\n",
    "# Check if 'tripDistance' and 'fareAmount' exist\n",
    "if 'tripDistance' not in nyc_tlc_df.columns or 'fareAmount' not in nyc_tlc_df.columns:\n",
    "    print(\"Columns 'tripDistance' or 'fareAmount' not found. Available columns are:\")\n",
    "    print(nyc_tlc_df.columns)\n",
    "else:\n",
    "    # Convert pickup and dropoff datetime to pandas datetime format\n",
    "    nyc_tlc_df['lpepPickupDatetime'] = pd.to_datetime(nyc_tlc_df['lpepPickupDatetime'])\n",
    "    nyc_tlc_df['lpepDropoffDatetime'] = pd.to_datetime(nyc_tlc_df['lpepDropoffDatetime'])\n",
    "\n",
    "    # Compute trip duration in minutes\n",
    "    nyc_tlc_df['trip_duration'] = (nyc_tlc_df['lpepDropoffDatetime'] - nyc_tlc_df['lpepPickupDatetime']).dt.total_seconds() / 60.0\n",
    "\n",
    "    # Remove rows with zero or negative trip distances and fares for analysis\n",
    "    nyc_tlc_df = nyc_tlc_df[(nyc_tlc_df['tripDistance'] > 0) & (nyc_tlc_df['fareAmount'] > 0)]\n",
    "\n",
    "    # Define trip length categories\n",
    "    bins = [0, 1, 2, 5, 10, 20, 30, 40, 50, 60, float('inf')]\n",
    "    labels = ['0-1', '1-2', '2-5', '5-10', '10-20', '20-30', '30-40', '40-50', '50-60', '60+']\n",
    "    nyc_tlc_df['trip_length_category'] = pd.cut(nyc_tlc_df['tripDistance'], bins=bins, labels=labels, right=False)\n",
    "\n",
    "    # Compute average fares for each trip length category\n",
    "    average_fares = nyc_tlc_df.groupby('trip_length_category')['fareAmount'].mean()\n",
    "\n",
    "    # Plot average fares by trip length category\n",
    "    plt.figure(figsize=(14, 6))\n",
    "    average_fares.plot(kind='bar', color='skyblue')\n"
   ]
  },
  {
   "cell_type": "code",
   "execution_count": 9,
   "id": "e1465202-250a-4e6f-a04b-9617ba4cf26a",
   "metadata": {},
   "outputs": [
    {
     "name": "stdout",
     "output_type": "stream",
     "text": [
      "{'infer_column_types': 'False', 'activity': 'download'}\n",
      "{'infer_column_types': 'False', 'activity': 'download', 'activityApp': 'FileDataset'}\n",
      "[Info] read from /var/folders/m1/v2p5dlc135x8ctp72qfss6200000gn/T/tmp0e4q44c7/https%3A/%2Fazureopendatastorage.azurefd.net/nyctlc/green/puYear=2018/puMonth=5/part-00087-tid-4753095944193949832-fee7e113-666d-4114-9fcb-bcd3046479f3-2657-1.c000.snappy.parquet\n",
      "[Info] read from /var/folders/m1/v2p5dlc135x8ctp72qfss6200000gn/T/tmp0e4q44c7/https%3A/%2Fazureopendatastorage.azurefd.net/nyctlc/green/puYear=2018/puMonth=6/part-00171-tid-4753095944193949832-fee7e113-666d-4114-9fcb-bcd3046479f3-2741-1.c000.snappy.parquet\n",
      "Index(['vendorID', 'lpepPickupDatetime', 'lpepDropoffDatetime',\n",
      "       'passengerCount', 'tripDistance', 'puLocationId', 'doLocationId',\n",
      "       'pickupLongitude', 'pickupLatitude', 'dropoffLongitude',\n",
      "       'dropoffLatitude', 'rateCodeID', 'storeAndFwdFlag', 'paymentType',\n",
      "       'fareAmount', 'extra', 'mtaTax', 'improvementSurcharge', 'tipAmount',\n",
      "       'tollsAmount', 'ehailFee', 'totalAmount', 'tripType'],\n",
      "      dtype='object')\n",
      "Column 'trip_distance' not found. Available columns are:\n",
      "Index(['vendorID', 'lpepPickupDatetime', 'lpepDropoffDatetime',\n",
      "       'passengerCount', 'tripDistance', 'puLocationId', 'doLocationId',\n",
      "       'pickupLongitude', 'pickupLatitude', 'dropoffLongitude',\n",
      "       'dropoffLatitude', 'rateCodeID', 'storeAndFwdFlag', 'paymentType',\n",
      "       'fareAmount', 'extra', 'mtaTax', 'improvementSurcharge', 'tipAmount',\n",
      "       'tollsAmount', 'ehailFee', 'totalAmount', 'tripType'],\n",
      "      dtype='object')\n"
     ]
    }
   ],
   "source": [
    "# Import necessary libraries\n",
    "from azureml.opendatasets import NycTlcGreen\n",
    "from datetime import datetime\n",
    "from dateutil import parser\n",
    "import pandas as pd\n",
    "import matplotlib.pyplot as plt\n",
    "import seaborn as sns\n",
    "\n",
    "# Set the date range\n",
    "end_date = parser.parse('2018-06-06')\n",
    "start_date = parser.parse('2018-05-01')\n",
    "\n",
    "# Fetch the dataset\n",
    "nyc_tlc = NycTlcGreen(start_date=start_date, end_date=end_date)\n",
    "nyc_tlc_df = nyc_tlc.to_pandas_dataframe()\n",
    "\n",
    "# Display the columns to verify the names\n",
    "print(nyc_tlc_df.columns)\n",
    "\n",
    "# Check if 'trip_distance' exists, if not, print the columns to inspect\n",
    "if 'trip_distance' not in nyc_tlc_df.columns:\n",
    "    print(\"Column 'trip_distance' not found. Available columns are:\")\n",
    "    print(nyc_tlc_df.columns)\n",
    "else:\n",
    "    # Convert pickup and dropoff datetime to pandas datetime format\n",
    "    nyc_tlc_df['lpepPickupDatetime'] = pd.to_datetime(nyc_tlc_df['lpepPickupDatetime'])\n",
    "    nyc_tlc_df['lpepDropoffDatetime'] = pd.to_datetime(nyc_tlc_df['lpepDropoffDatetime'])\n",
    "\n",
    "    # Compute trip duration in minutes\n",
    "    nyc_tlc_df['trip_duration'] = (nyc_tlc_df['lpepDropoffDatetime'] - nyc_tlc_df['lpepPickupDatetime']).dt.total_seconds() / 60.0\n",
    "\n",
    "    # Remove rows with zero or negative trip distances and fares for analysis\n",
    "    nyc_tlc_df = nyc_tlc_df[(nyc_tlc_df['trip_distance'] > 0) & (nyc_tlc_df['fare_amount'] > 0)]\n",
    "\n",
    "    # Define trip length categories\n",
    "    bins = [0, 1, 2, 5, 10, 20, 30, 40, 50, 60, float('inf')]\n",
    "    labels = ['0-1', '1-2', '2-5', '5-10', '10-20', '20-30', '30-40', '40-50', '50-60', '60+']\n",
    "    nyc_tlc_df['trip_length_category'] = pd.cut(nyc_tlc_df['trip_distance'], bins=bins, labels=labels, right=False)\n",
    "\n",
    "    # Compute average fares for each trip length category\n",
    "    average_fares = nyc_tlc_df.groupby('trip_length_category')['fare_amount'].mean()\n",
    "\n",
    "    # Plot average fares by trip length category\n",
    "    plt.figure(figsize=(14, 6))\n",
    "    average_fares.plot(kind='bar', color='skyblue')\n",
    "    plt.title('Average Fare by Trip Length')\n",
    "    plt.xlabel('Trip Length (miles)')\n",
    "    plt.ylabel('Average Fare ($)')\n",
    "    plt.xticks(rotation=45)\n",
    "    plt.show()\n",
    "\n",
    "    # Plot fare distribution for various trip lengths\n",
    "    plt.figure(figsize=(14, 6))\n",
    "    sns.boxplot(x='trip_length_category', y='fare_amount', data=nyc_tlc_df, palette='Set3')\n",
    "    plt.title('Fare Distribution by Trip Length')\n",
    "    plt.xlabel('Trip Length (miles)')\n",
    "    plt.ylabel('Fare Amount ($)')\n",
    "    plt.xticks(rotation=45)\n",
    "    plt.show()\n"
   ]
  },
  {
   "cell_type": "code",
   "execution_count": null,
   "id": "a3b23400-dba1-46ff-a876-02d8a118b4ef",
   "metadata": {},
   "outputs": [],
   "source": []
  }
 ],
 "metadata": {
  "kernelspec": {
   "display_name": "Python [conda env:taxidev] *",
   "language": "python",
   "name": "conda-env-taxidev-py"
  },
  "language_info": {
   "codemirror_mode": {
    "name": "ipython",
    "version": 3
   },
   "file_extension": ".py",
   "mimetype": "text/x-python",
   "name": "python",
   "nbconvert_exporter": "python",
   "pygments_lexer": "ipython3",
   "version": "3.9.19"
  }
 },
 "nbformat": 4,
 "nbformat_minor": 5
}
