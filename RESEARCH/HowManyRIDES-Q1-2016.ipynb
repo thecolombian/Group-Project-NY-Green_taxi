{
 "cells": [
  {
   "cell_type": "code",
   "execution_count": 4,
   "id": "41ecde48-073b-4e06-9929-a80296016f55",
   "metadata": {},
   "outputs": [
    {
     "name": "stdout",
     "output_type": "stream",
     "text": [
      "{'infer_column_types': 'False', 'activity': 'download'}\n",
      "{'infer_column_types': 'False', 'activity': 'download', 'activityApp': 'FileDataset'}\n",
      "[Info] read from /var/folders/m1/v2p5dlc135x8ctp72qfss6200000gn/T/tmpxv_3rrd0/https%3A/%2Fazureopendatastorage.azurefd.net/nyctlc/green/puYear=2016/puMonth=1/part-00119-tid-4753095944193949832-fee7e113-666d-4114-9fcb-bcd3046479f3-2689-1.c000.snappy.parquet\n",
      "[Info] read from /var/folders/m1/v2p5dlc135x8ctp72qfss6200000gn/T/tmpxv_3rrd0/https%3A/%2Fazureopendatastorage.azurefd.net/nyctlc/green/puYear=2016/puMonth=2/part-00060-tid-4753095944193949832-fee7e113-666d-4114-9fcb-bcd3046479f3-2630-2.c000.snappy.parquet\n",
      "[Info] read from /var/folders/m1/v2p5dlc135x8ctp72qfss6200000gn/T/tmpxv_3rrd0/https%3A/%2Fazureopendatastorage.azurefd.net/nyctlc/green/puYear=2016/puMonth=3/part-00196-tid-4753095944193949832-fee7e113-666d-4114-9fcb-bcd3046479f3-2766-1.c000.snappy.parquet\n",
      "Index(['vendorID', 'lpepPickupDatetime', 'lpepDropoffDatetime',\n",
      "       'passengerCount', 'tripDistance', 'puLocationId', 'doLocationId',\n",
      "       'pickupLongitude', 'pickupLatitude', 'dropoffLongitude',\n",
      "       'dropoffLatitude', 'rateCodeID', 'storeAndFwdFlag', 'paymentType',\n",
      "       'fareAmount', 'extra', 'mtaTax', 'improvementSurcharge', 'tipAmount',\n",
      "       'tollsAmount', 'ehailFee', 'totalAmount', 'tripType'],\n",
      "      dtype='object')\n",
      "Total taxi services requested in Q1 2016: 4484253\n"
     ]
    }
   ],
   "source": [
    "# Import libraries\n",
    "\n",
    "from azureml.opendatasets import NycTlcGreen\n",
    "from datetime import datetime\n",
    "from dateutil import parser\n",
    "import pandas as pd\n",
    "import logging\n",
    "\n",
    "# Set the logging level to ERROR to suppress verbose logging\n",
    "logging.getLogger('azureml.opendatasets').setLevel(logging.ERROR)\n",
    "\n",
    "# Set the date range for Q1 2016\n",
    "start_date = parser.parse('2016-01-01')\n",
    "end_date = parser.parse('2016-03-31')\n",
    "\n",
    "# Fetch the dataset\n",
    "nyc_tlc = NycTlcGreen(start_date=start_date, end_date=end_date)\n",
    "nyc_tlc_df = nyc_tlc.to_pandas_dataframe()\n",
    "\n",
    "# Display the columns to verify the names\n",
    "print(nyc_tlc_df.columns)\n",
    "\n",
    "# Count all taxi services requested\n",
    "total_taxi_services = len(nyc_tlc_df)\n",
    "\n",
    "# Print the result\n",
    "print(f\"Total taxi services requested in Q1 2016: {total_taxi_services}\")\n"
   ]
  },
  {
   "cell_type": "code",
   "execution_count": null,
   "id": "a08d13be-004e-44f7-8dad-5b8d8b671f0b",
   "metadata": {},
   "outputs": [],
   "source": []
  }
 ],
 "metadata": {
  "kernelspec": {
   "display_name": "Python [conda env:taxidev] *",
   "language": "python",
   "name": "conda-env-taxidev-py"
  },
  "language_info": {
   "codemirror_mode": {
    "name": "ipython",
    "version": 3
   },
   "file_extension": ".py",
   "mimetype": "text/x-python",
   "name": "python",
   "nbconvert_exporter": "python",
   "pygments_lexer": "ipython3",
   "version": "3.9.19"
  }
 },
 "nbformat": 4,
 "nbformat_minor": 5
}
