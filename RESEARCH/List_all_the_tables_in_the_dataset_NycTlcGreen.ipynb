{
 "cells": [
  {
   "cell_type": "code",
   "execution_count": 2,
   "id": "d7fca597-5d2c-4708-899c-bdfed7f92dd3",
   "metadata": {},
   "outputs": [
    {
     "name": "stdout",
     "output_type": "stream",
     "text": [
      "{'infer_column_types': 'False', 'activity': 'download'}\n",
      "{'infer_column_types': 'False', 'activity': 'download', 'activityApp': 'FileDataset'}\n",
      "[Info] read from /var/folders/m1/v2p5dlc135x8ctp72qfss6200000gn/T/tmpbjmer7iz/https%3A/%2Fazureopendatastorage.azurefd.net/nyctlc/green/puYear=2016/puMonth=1/part-00119-tid-4753095944193949832-fee7e113-666d-4114-9fcb-bcd3046479f3-2689-1.c000.snappy.parquet\n",
      "[Info] read from /var/folders/m1/v2p5dlc135x8ctp72qfss6200000gn/T/tmpbjmer7iz/https%3A/%2Fazureopendatastorage.azurefd.net/nyctlc/green/puYear=2016/puMonth=2/part-00060-tid-4753095944193949832-fee7e113-666d-4114-9fcb-bcd3046479f3-2630-2.c000.snappy.parquet\n",
      "[Info] read from /var/folders/m1/v2p5dlc135x8ctp72qfss6200000gn/T/tmpbjmer7iz/https%3A/%2Fazureopendatastorage.azurefd.net/nyctlc/green/puYear=2016/puMonth=3/part-00196-tid-4753095944193949832-fee7e113-666d-4114-9fcb-bcd3046479f3-2766-1.c000.snappy.parquet\n",
      "Columns in the dataset:\n",
      "+-------+----------------------+\n",
      "| Index |     Column Name      |\n",
      "+-------+----------------------+\n",
      "|   0   |       vendorID       |\n",
      "|   1   |  lpepPickupDatetime  |\n",
      "|   2   | lpepDropoffDatetime  |\n",
      "|   3   |    passengerCount    |\n",
      "|   4   |     tripDistance     |\n",
      "|   5   |     puLocationId     |\n",
      "|   6   |     doLocationId     |\n",
      "|   7   |   pickupLongitude    |\n",
      "|   8   |    pickupLatitude    |\n",
      "|   9   |   dropoffLongitude   |\n",
      "|  10   |   dropoffLatitude    |\n",
      "|  11   |      rateCodeID      |\n",
      "|  12   |   storeAndFwdFlag    |\n",
      "|  13   |     paymentType      |\n",
      "|  14   |      fareAmount      |\n",
      "|  15   |        extra         |\n",
      "|  16   |        mtaTax        |\n",
      "|  17   | improvementSurcharge |\n",
      "|  18   |      tipAmount       |\n",
      "|  19   |     tollsAmount      |\n",
      "|  20   |       ehailFee       |\n",
      "|  21   |     totalAmount      |\n",
      "|  22   |       tripType       |\n",
      "+-------+----------------------+\n"
     ]
    }
   ],
   "source": [
    "# Import necessary libraries\n",
    "from azureml.opendatasets import NycTlcGreen\n",
    "from datetime import datetime\n",
    "from dateutil import parser\n",
    "import pandas as pd\n",
    "from tabulate import tabulate\n",
    "import logging\n",
    "\n",
    "# Set the logging level to ERROR to suppress verbose logging\n",
    "logging.getLogger('azureml.opendatasets').setLevel(logging.ERROR)\n",
    "\n",
    "# Set the date range for Q1 2016\n",
    "start_date = parser.parse('2016-01-01')\n",
    "end_date = parser.parse('2016-03-31')\n",
    "\n",
    "# Fetch the dataset\n",
    "nyc_tlc = NycTlcGreen(start_date=start_date, end_date=end_date)\n",
    "nyc_tlc_df = nyc_tlc.to_pandas_dataframe()\n",
    "\n",
    "# Get the column names\n",
    "columns = nyc_tlc_df.columns\n",
    "\n",
    "# Print the columns in a pretty format\n",
    "print(\"Columns in the dataset:\")\n",
    "print(tabulate(enumerate(columns), headers=[\"Index\", \"Column Name\"], tablefmt=\"pretty\"))\n"
   ]
  },
  {
   "cell_type": "code",
   "execution_count": null,
   "id": "d402f62f-5cfe-4905-859e-55332fd90764",
   "metadata": {},
   "outputs": [],
   "source": []
  }
 ],
 "metadata": {
  "kernelspec": {
   "display_name": "Python [conda env:taxidev] *",
   "language": "python",
   "name": "conda-env-taxidev-py"
  },
  "language_info": {
   "codemirror_mode": {
    "name": "ipython",
    "version": 3
   },
   "file_extension": ".py",
   "mimetype": "text/x-python",
   "name": "python",
   "nbconvert_exporter": "python",
   "pygments_lexer": "ipython3",
   "version": "3.9.19"
  }
 },
 "nbformat": 4,
 "nbformat_minor": 5
}
